{
 "cells": [
  {
   "cell_type": "code",
   "execution_count": 1,
   "metadata": {},
   "outputs": [],
   "source": [
    "import pandas as pd"
   ]
  },
  {
   "cell_type": "code",
   "execution_count": 2,
   "metadata": {},
   "outputs": [
    {
     "data": {
      "text/html": [
       "<div>\n",
       "<style scoped>\n",
       "    .dataframe tbody tr th:only-of-type {\n",
       "        vertical-align: middle;\n",
       "    }\n",
       "\n",
       "    .dataframe tbody tr th {\n",
       "        vertical-align: top;\n",
       "    }\n",
       "\n",
       "    .dataframe thead th {\n",
       "        text-align: right;\n",
       "    }\n",
       "</style>\n",
       "<table border=\"1\" class=\"dataframe\">\n",
       "  <thead>\n",
       "    <tr style=\"text-align: right;\">\n",
       "      <th></th>\n",
       "      <th>X</th>\n",
       "      <th>y1</th>\n",
       "      <th>y2</th>\n",
       "      <th>y3</th>\n",
       "      <th>y4</th>\n",
       "      <th>y5</th>\n",
       "      <th>y6</th>\n",
       "      <th>y7</th>\n",
       "      <th>y8</th>\n",
       "      <th>y9</th>\n",
       "      <th>y10</th>\n",
       "      <th>y11</th>\n",
       "      <th>y12</th>\n",
       "      <th>y13</th>\n",
       "      <th>y14</th>\n",
       "      <th>y15</th>\n",
       "    </tr>\n",
       "  </thead>\n",
       "  <tbody>\n",
       "    <tr>\n",
       "      <th>0</th>\n",
       "      <td>comment simplifier suivi actifs financiers déc...</td>\n",
       "      <td>0</td>\n",
       "      <td>0</td>\n",
       "      <td>0</td>\n",
       "      <td>0</td>\n",
       "      <td>0</td>\n",
       "      <td>1</td>\n",
       "      <td>0</td>\n",
       "      <td>0</td>\n",
       "      <td>0</td>\n",
       "      <td>0</td>\n",
       "      <td>0</td>\n",
       "      <td>0</td>\n",
       "      <td>0</td>\n",
       "      <td>0</td>\n",
       "      <td>0</td>\n",
       "    </tr>\n",
       "    <tr>\n",
       "      <th>1</th>\n",
       "      <td>dear linkers chester consulting conducting stu...</td>\n",
       "      <td>0</td>\n",
       "      <td>0</td>\n",
       "      <td>0</td>\n",
       "      <td>0</td>\n",
       "      <td>0</td>\n",
       "      <td>1</td>\n",
       "      <td>0</td>\n",
       "      <td>0</td>\n",
       "      <td>0</td>\n",
       "      <td>0</td>\n",
       "      <td>0</td>\n",
       "      <td>0</td>\n",
       "      <td>0</td>\n",
       "      <td>0</td>\n",
       "      <td>0</td>\n",
       "    </tr>\n",
       "    <tr>\n",
       "      <th>2</th>\n",
       "      <td>inscrivez newsletter recevez chaque jour toute...</td>\n",
       "      <td>0</td>\n",
       "      <td>0</td>\n",
       "      <td>0</td>\n",
       "      <td>0</td>\n",
       "      <td>0</td>\n",
       "      <td>1</td>\n",
       "      <td>0</td>\n",
       "      <td>0</td>\n",
       "      <td>0</td>\n",
       "      <td>0</td>\n",
       "      <td>0</td>\n",
       "      <td>0</td>\n",
       "      <td>0</td>\n",
       "      <td>0</td>\n",
       "      <td>0</td>\n",
       "    </tr>\n",
       "    <tr>\n",
       "      <th>3</th>\n",
       "      <td>discover digital factory talan digitalfactory ...</td>\n",
       "      <td>0</td>\n",
       "      <td>0</td>\n",
       "      <td>0</td>\n",
       "      <td>0</td>\n",
       "      <td>0</td>\n",
       "      <td>1</td>\n",
       "      <td>0</td>\n",
       "      <td>0</td>\n",
       "      <td>0</td>\n",
       "      <td>0</td>\n",
       "      <td>0</td>\n",
       "      <td>0</td>\n",
       "      <td>0</td>\n",
       "      <td>0</td>\n",
       "      <td>0</td>\n",
       "    </tr>\n",
       "    <tr>\n",
       "      <th>4</th>\n",
       "      <td>compris utilise cookies af air amélier expérie...</td>\n",
       "      <td>0</td>\n",
       "      <td>0</td>\n",
       "      <td>0</td>\n",
       "      <td>0</td>\n",
       "      <td>0</td>\n",
       "      <td>1</td>\n",
       "      <td>0</td>\n",
       "      <td>0</td>\n",
       "      <td>0</td>\n",
       "      <td>0</td>\n",
       "      <td>0</td>\n",
       "      <td>0</td>\n",
       "      <td>0</td>\n",
       "      <td>0</td>\n",
       "      <td>0</td>\n",
       "    </tr>\n",
       "  </tbody>\n",
       "</table>\n",
       "</div>"
      ],
      "text/plain": [
       "                                                   X  y1  y2  y3  y4  y5  y6  \\\n",
       "0  comment simplifier suivi actifs financiers déc...   0   0   0   0   0   1   \n",
       "1  dear linkers chester consulting conducting stu...   0   0   0   0   0   1   \n",
       "2  inscrivez newsletter recevez chaque jour toute...   0   0   0   0   0   1   \n",
       "3  discover digital factory talan digitalfactory ...   0   0   0   0   0   1   \n",
       "4  compris utilise cookies af air amélier expérie...   0   0   0   0   0   1   \n",
       "\n",
       "   y7  y8  y9  y10  y11  y12  y13  y14  y15  \n",
       "0   0   0   0    0    0    0    0    0    0  \n",
       "1   0   0   0    0    0    0    0    0    0  \n",
       "2   0   0   0    0    0    0    0    0    0  \n",
       "3   0   0   0    0    0    0    0    0    0  \n",
       "4   0   0   0    0    0    0    0    0    0  "
      ]
     },
     "execution_count": 2,
     "metadata": {},
     "output_type": "execute_result"
    }
   ],
   "source": [
    "#read cleaned data: X, y1, y2, ...,y15\n",
    "data=pd.read_csv('cleaned_dataset.csv')\n",
    "data.head()"
   ]
  },
  {
   "cell_type": "markdown",
   "metadata": {},
   "source": [
    "<h1>SVM classifier's performance</h1>"
   ]
  },
  {
   "cell_type": "code",
   "execution_count": 11,
   "metadata": {},
   "outputs": [],
   "source": [
    "from sklearn.model_selection import train_test_split\n",
    "from sklearn.feature_extraction.text import CountVectorizer, TfidfTransformer\n",
    "from sklearn.metrics import recall_score, precision_score, accuracy_score, confusion_matrix\n",
    "from sklearn.pipeline import Pipeline\n",
    "from nltk.corpus import stopwords\n",
    "\n",
    "stop_words = set(stopwords.words(\"english\")).union(set(stopwords.words(\"french\")))"
   ]
  },
  {
   "cell_type": "code",
   "execution_count": 17,
   "metadata": {},
   "outputs": [
    {
     "name": "stdout",
     "output_type": "stream",
     "text": [
      "AVG performance of 12models\n",
      "accuracy  : 0.9688830943068233\n",
      "precision : 0.757975684089933\n",
      "recall    : 0.701233141636309\n"
     ]
    }
   ],
   "source": [
    "from sklearn.linear_model import SGDClassifier\n",
    "y=[data.y1,data.y2,data.y3,data.y4,data.y5,data.y6,data.y7,data.y8,data.y9,data.y10,data.y11,data.y12,data.y13,data.y14,data.y15]\n",
    "\n",
    "models=[]\n",
    "ac=0\n",
    "p=0\n",
    "r=0\n",
    "for i in range(15):\n",
    "    a,b,c,d=train_test_split(data.X, y[i], test_size=0.2, random_state = 0)\n",
    "    model=Pipeline([('vect', CountVectorizer(lowercase=False,min_df=1)),\n",
    "                ('tfidf', TfidfTransformer()),\n",
    "                ('clf',SGDClassifier(loss='hinge', penalty='l2',alpha=1e-7, random_state=0, max_iter=5, tol=None))\n",
    "                ])\n",
    "    model.fit(a,c)\n",
    "    models.append(model)\n",
    "    y_pred=model.predict(b)\n",
    "    ac+=accuracy_score(y_pred, d)\n",
    "    p+=precision_score(d, y_pred)\n",
    "    r+=recall_score(d, y_pred)\n",
    "print(\"AVG performance of 12models\")\n",
    "print(\"accuracy  :\",ac/15)\n",
    "print(\"precision :\",p/15)\n",
    "print('recall    :',r/15) "
   ]
  },
  {
   "cell_type": "code",
   "execution_count": 19,
   "metadata": {},
   "outputs": [
    {
     "name": "stdout",
     "output_type": "stream",
     "text": [
      "AVG performance of 12models\n",
      "accuracy  : 0.9709691438504999\n",
      "precision : 0.8039591348787164\n",
      "recall    : 0.6668081629978077\n"
     ]
    }
   ],
   "source": [
    "from sklearn.linear_model import SGDClassifier\n",
    "y=[data.y1,data.y2,data.y3,data.y4,data.y5,data.y6,data.y7,data.y8,data.y9,data.y10,data.y11,data.y12,data.y13,data.y14,data.y15]\n",
    "\n",
    "models=[]\n",
    "ac=0\n",
    "p=0\n",
    "r=0\n",
    "for i in range(15):\n",
    "    a,b,c,d=train_test_split(data.X, y[i], test_size=0.2, random_state = 0)\n",
    "    model=Pipeline([('vect', CountVectorizer(lowercase=False,min_df=1)),\n",
    "                ('tfidf', TfidfTransformer()),\n",
    "                ('clf',SGDClassifier(loss='hinge', penalty='l2',alpha=1e-5, random_state=0, max_iter=3, tol=None))\n",
    "                ])\n",
    "    model.fit(a,c)\n",
    "    models.append(model)\n",
    "    y_pred=model.predict(b)\n",
    "    ac+=accuracy_score(y_pred, d)\n",
    "    p+=precision_score(d, y_pred)\n",
    "    r+=recall_score(d, y_pred)\n",
    "print(\"AVG performance of 15models\")\n",
    "print(\"accuracy  :\",ac/15)\n",
    "print(\"precision :\",p/15)\n",
    "print('recall    :',r/15) "
   ]
  },
  {
   "cell_type": "code",
   "execution_count": null,
   "metadata": {},
   "outputs": [],
   "source": [
    "#grid_search:\n"
   ]
  },
  {
   "cell_type": "code",
   "execution_count": null,
   "metadata": {},
   "outputs": [],
   "source": [
    "import pickle\n",
    "for i in range(15):\n",
    "    filename = 'tf-idf_SVM Classifier'+str(i)+'.sav'\n",
    "    pickle.dump(models[i], open(filename, 'wb'))"
   ]
  }
 ],
 "metadata": {
  "kernelspec": {
   "display_name": "Python 3",
   "language": "python",
   "name": "python3"
  },
  "language_info": {
   "codemirror_mode": {
    "name": "ipython",
    "version": 3
   },
   "file_extension": ".py",
   "mimetype": "text/x-python",
   "name": "python",
   "nbconvert_exporter": "python",
   "pygments_lexer": "ipython3",
   "version": "3.7.1"
  }
 },
 "nbformat": 4,
 "nbformat_minor": 2
}
